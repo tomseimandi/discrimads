{
 "cells": [
  {
   "cell_type": "code",
   "execution_count": null,
   "metadata": {
    "vscode": {
     "languageId": "plaintext"
    }
   },
   "outputs": [],
   "source": [
    "import bs4 as bs\n",
    "import cv2\n",
    "import csv\n",
    "import glob\n",
    "import pytesseract\n",
    "import os\n",
    "import urllib.request\n",
    "import httplib2\n",
    "from inaFaceAnalyzer.inaFaceAnalyzer import ImageAnalyzer\n",
    "\n",
    "from PIL import Image\n",
    "from sentence_transformers import SentenceTransformer, util\n",
    "from transformers import AutoProcessor, AutoModelForZeroShotImageClassification\n"
   ]
  }
 ],
 "metadata": {
  "language_info": {
   "name": "python"
  }
 },
 "nbformat": 4,
 "nbformat_minor": 2
}
