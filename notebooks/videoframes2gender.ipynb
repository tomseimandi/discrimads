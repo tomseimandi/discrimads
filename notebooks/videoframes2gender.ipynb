{
 "cells": [
  {
   "cell_type": "markdown",
   "metadata": {},
   "source": [
    "Imports"
   ]
  },
  {
   "cell_type": "code",
   "execution_count": 2,
   "metadata": {},
   "outputs": [
    {
     "name": "stderr",
     "output_type": "stream",
     "text": [
      "2025-02-26 15:40:34.198447: E external/local_xla/xla/stream_executor/cuda/cuda_dnn.cc:9261] Unable to register cuDNN factory: Attempting to register factory for plugin cuDNN when one has already been registered\n",
      "2025-02-26 15:40:34.198484: E external/local_xla/xla/stream_executor/cuda/cuda_fft.cc:607] Unable to register cuFFT factory: Attempting to register factory for plugin cuFFT when one has already been registered\n",
      "2025-02-26 15:40:34.199766: E external/local_xla/xla/stream_executor/cuda/cuda_blas.cc:1515] Unable to register cuBLAS factory: Attempting to register factory for plugin cuBLAS when one has already been registered\n",
      "2025-02-26 15:40:34.207679: I tensorflow/core/platform/cpu_feature_guard.cc:182] This TensorFlow binary is optimized to use available CPU instructions in performance-critical operations.\n",
      "To enable the following instructions: AVX2 FMA, in other operations, rebuild TensorFlow with the appropriate compiler flags.\n",
      "2025-02-26 15:40:35.313542: W tensorflow/compiler/tf2tensorrt/utils/py_utils.cc:38] TF-TRT Warning: Could not find TensorRT\n",
      "/home/abbasmahfouz/.local/lib/python3.10/site-packages/tqdm/auto.py:21: TqdmWarning: IProgress not found. Please update jupyter and ipywidgets. See https://ipywidgets.readthedocs.io/en/stable/user_install.html\n",
      "  from .autonotebook import tqdm as notebook_tqdm\n"
     ]
    }
   ],
   "source": [
    "import bs4 as bs\n",
    "import cv2\n",
    "import csv\n",
    "import glob\n",
    "import pytesseract\n",
    "import os\n",
    "import urllib.request\n",
    "import httplib2\n",
    "from inaFaceAnalyzer.inaFaceAnalyzer import ImageAnalyzer\n",
    "\n",
    "from PIL import Image\n",
    "from sentence_transformers import SentenceTransformer, util\n",
    "from transformers import AutoProcessor, AutoModelForZeroShotImageClassification\n"
   ]
  },
  {
   "cell_type": "markdown",
   "metadata": {},
   "source": [
    "get_gender function \n",
    "input: list of video frame locations\n",
    "output: list with 0 for M, 1 for F, 2 for neither, 3 for both"
   ]
  },
  {
   "cell_type": "code",
   "execution_count": null,
   "metadata": {},
   "outputs": [
    {
     "name": "stderr",
     "output_type": "stream",
     "text": [
      "\u001b[1;31m2025-02-26 15:40:40.634833296 [E:onnxruntime:Default, provider_bridge_ort.cc:1862 TryGetProviderInfo_CUDA] /onnxruntime_src/onnxruntime/core/session/provider_bridge_ort.cc:1539 onnxruntime::Provider& onnxruntime::ProviderLibrary::Get() [ONNXRuntimeError] : 1 : FAIL : Failed to load library libonnxruntime_providers_cuda.so with error: libcudnn_adv.so.9: cannot open shared object file: No such file or directory\n",
      "\u001b[m\n",
      "\u001b[0;93m2025-02-26 15:40:40.634849907 [W:onnxruntime:Default, onnxruntime_pybind_state.cc:993 CreateExecutionProviderInstance] Failed to create CUDAExecutionProvider. Require cuDNN 9.* and CUDA 12.*. Please install all dependencies as mentioned in the GPU requirements page (https://onnxruntime.ai/docs/execution-providers/CUDA-ExecutionProvider.html#requirements), make sure they're in the PATH, and that your GPU is supported.\u001b[m\n"
     ]
    }
   ],
   "source": [
    "inaFaceAnalyzer = ImageAnalyzer()\n",
    "\n",
    "video_location = \"test_videos/\"\n",
    "\n",
    "def get_gender(frame_list):\n",
    "    frame_list=filter(lambda x: x.endswith(\".jpg\"),frame_list)\n",
    "    frame_list=list(map(lambda x: video_location+x,frame_list))\n",
    "    df = inaFaceAnalyzer(frame_list)\n",
    "    df_2 = df.groupby(\"frame\")['sex_label'].apply(list)\n",
    "    ret = []\n",
    "    for row in df_2:\n",
    "        if len(row)>1:\n",
    "            if len(set(row))>1: ret.append(3)\n",
    "            else: \n",
    "                if row[0]=='f':\n",
    "                    ret.append(1)\n",
    "                else:\n",
    "                    ret.append(0)\n",
    "        else:\n",
    "            if row[0]=='f': ret.append(1)\n",
    "            else: ret.append(0)\n",
    "    for frame_name in frame_list:\n",
    "        if frame_name not in df['frame'].tolist():\n",
    "            ret.append(2)\n",
    "    \n",
    "    return ret"
   ]
  },
  {
   "cell_type": "markdown",
   "metadata": {},
   "source": [
    "Test"
   ]
  },
  {
   "cell_type": "code",
   "execution_count": 6,
   "metadata": {},
   "outputs": [
    {
     "name": "stdout",
     "output_type": "stream",
     "text": [
      "M identified 1\n",
      "F identified 0\n",
      "Neither identified 0\n",
      "Both identified 0\n"
     ]
    }
   ],
   "source": [
    "ret=get_gender([\"mcdoindeed2.jpg\"])\n",
    "print(\"M identified \"+str(ret.count(0)))\n",
    "print(\"F identified \"+str(ret.count(1)))\n",
    "print(\"Neither identified \"+str(ret.count(2)))\n",
    "print(\"Both identified \"+str(ret.count(3)))\n"
   ]
  }
 ],
 "metadata": {
  "kernelspec": {
   "display_name": "Python 3",
   "language": "python",
   "name": "python3"
  },
  "language_info": {
   "codemirror_mode": {
    "name": "ipython",
    "version": 3
   },
   "file_extension": ".py",
   "mimetype": "text/x-python",
   "name": "python",
   "nbconvert_exporter": "python",
   "pygments_lexer": "ipython3",
   "version": "3.10.12"
  }
 },
 "nbformat": 4,
 "nbformat_minor": 2
}
